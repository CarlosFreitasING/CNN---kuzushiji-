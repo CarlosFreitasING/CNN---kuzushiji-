{
 "cells": [
  {
   "cell_type": "markdown",
   "id": "composite-encyclopedia",
   "metadata": {
    "papermill": {
     "duration": 0.023394,
     "end_time": "2021-06-06T04:47:47.730752",
     "exception": false,
     "start_time": "2021-06-06T04:47:47.707358",
     "status": "completed"
    },
    "tags": []
   },
   "source": [
    "## LIBRERIAS"
   ]
  },
  {
   "cell_type": "code",
   "execution_count": 3,
   "id": "thrown-domestic",
   "metadata": {
    "papermill": {
     "duration": 2.231431,
     "end_time": "2021-06-06T04:47:49.982710",
     "exception": false,
     "start_time": "2021-06-06T04:47:47.751279",
     "status": "completed"
    },
    "tags": []
   },
   "outputs": [],
   "source": [
    "import numpy as np\n",
    "import torch\n",
    "from torchvision import datasets, transforms\n",
    "from sklearn.model_selection import train_test_split\n",
    "from PIL import Image\n",
    "from matplotlib import pyplot as plt\n",
    "from PIL import Image\n",
    "import pandas as pd\n",
    "from torch import nn, optim\n",
    "\n",
    "import torch.nn.functional as F"
   ]
  },
  {
   "cell_type": "markdown",
   "id": "fresh-newark",
   "metadata": {
    "papermill": {
     "duration": 0.019983,
     "end_time": "2021-06-06T04:47:50.023173",
     "exception": false,
     "start_time": "2021-06-06T04:47:50.003190",
     "status": "completed"
    },
    "tags": []
   },
   "source": [
    "## TIPOS DE LETRAS Y ETIQUETAS EN EL DATASET\n",
    "\n",
    "Un archivo CSV contiene los 10 tipos de letras Kuzushiji que conforman el dataset, junto con el indice que le corresponde a cada una."
   ]
  },
  {
   "cell_type": "code",
   "execution_count": 6,
   "id": "julian-livestock",
   "metadata": {
    "papermill": {
     "duration": 0.055282,
     "end_time": "2021-06-06T04:47:50.098583",
     "exception": false,
     "start_time": "2021-06-06T04:47:50.043301",
     "status": "completed"
    },
    "tags": []
   },
   "outputs": [
    {
     "ename": "FileNotFoundError",
     "evalue": "[Errno 2] No such file or directory: '../input/kuzushiji/kmnist_classmap.csv'",
     "output_type": "error",
     "traceback": [
      "\u001b[1;31m---------------------------------------------------------------------------\u001b[0m",
      "\u001b[1;31mFileNotFoundError\u001b[0m                         Traceback (most recent call last)",
      "Cell \u001b[1;32mIn[6], line 1\u001b[0m\n\u001b[1;32m----> 1\u001b[0m labelsCSV \u001b[38;5;241m=\u001b[39m pd\u001b[38;5;241m.\u001b[39mread_csv(\u001b[38;5;124m'\u001b[39m\u001b[38;5;124m../input/kuzushiji/kmnist_classmap.csv\u001b[39m\u001b[38;5;124m'\u001b[39m, delimiter\u001b[38;5;241m=\u001b[39m\u001b[38;5;124m'\u001b[39m\u001b[38;5;124m,\u001b[39m\u001b[38;5;124m'\u001b[39m, nrows \u001b[38;5;241m=\u001b[39m \u001b[38;5;241m100\u001b[39m)\n\u001b[0;32m      2\u001b[0m labelsCSV\u001b[38;5;241m.\u001b[39mdataframeName \u001b[38;5;241m=\u001b[39m \u001b[38;5;124m'\u001b[39m\u001b[38;5;124m../input/kuzushiji/kmnist_classmap.csv\u001b[39m\u001b[38;5;124m'\u001b[39m\n\u001b[0;32m      3\u001b[0m nRow, nCol \u001b[38;5;241m=\u001b[39m labelsCSV\u001b[38;5;241m.\u001b[39mshape\n",
      "File \u001b[1;32m~\\anaconda3\\Lib\\site-packages\\pandas\\io\\parsers\\readers.py:1026\u001b[0m, in \u001b[0;36mread_csv\u001b[1;34m(filepath_or_buffer, sep, delimiter, header, names, index_col, usecols, dtype, engine, converters, true_values, false_values, skipinitialspace, skiprows, skipfooter, nrows, na_values, keep_default_na, na_filter, verbose, skip_blank_lines, parse_dates, infer_datetime_format, keep_date_col, date_parser, date_format, dayfirst, cache_dates, iterator, chunksize, compression, thousands, decimal, lineterminator, quotechar, quoting, doublequote, escapechar, comment, encoding, encoding_errors, dialect, on_bad_lines, delim_whitespace, low_memory, memory_map, float_precision, storage_options, dtype_backend)\u001b[0m\n\u001b[0;32m   1013\u001b[0m kwds_defaults \u001b[38;5;241m=\u001b[39m _refine_defaults_read(\n\u001b[0;32m   1014\u001b[0m     dialect,\n\u001b[0;32m   1015\u001b[0m     delimiter,\n\u001b[1;32m   (...)\u001b[0m\n\u001b[0;32m   1022\u001b[0m     dtype_backend\u001b[38;5;241m=\u001b[39mdtype_backend,\n\u001b[0;32m   1023\u001b[0m )\n\u001b[0;32m   1024\u001b[0m kwds\u001b[38;5;241m.\u001b[39mupdate(kwds_defaults)\n\u001b[1;32m-> 1026\u001b[0m \u001b[38;5;28;01mreturn\u001b[39;00m _read(filepath_or_buffer, kwds)\n",
      "File \u001b[1;32m~\\anaconda3\\Lib\\site-packages\\pandas\\io\\parsers\\readers.py:620\u001b[0m, in \u001b[0;36m_read\u001b[1;34m(filepath_or_buffer, kwds)\u001b[0m\n\u001b[0;32m    617\u001b[0m _validate_names(kwds\u001b[38;5;241m.\u001b[39mget(\u001b[38;5;124m\"\u001b[39m\u001b[38;5;124mnames\u001b[39m\u001b[38;5;124m\"\u001b[39m, \u001b[38;5;28;01mNone\u001b[39;00m))\n\u001b[0;32m    619\u001b[0m \u001b[38;5;66;03m# Create the parser.\u001b[39;00m\n\u001b[1;32m--> 620\u001b[0m parser \u001b[38;5;241m=\u001b[39m TextFileReader(filepath_or_buffer, \u001b[38;5;241m*\u001b[39m\u001b[38;5;241m*\u001b[39mkwds)\n\u001b[0;32m    622\u001b[0m \u001b[38;5;28;01mif\u001b[39;00m chunksize \u001b[38;5;129;01mor\u001b[39;00m iterator:\n\u001b[0;32m    623\u001b[0m     \u001b[38;5;28;01mreturn\u001b[39;00m parser\n",
      "File \u001b[1;32m~\\anaconda3\\Lib\\site-packages\\pandas\\io\\parsers\\readers.py:1620\u001b[0m, in \u001b[0;36mTextFileReader.__init__\u001b[1;34m(self, f, engine, **kwds)\u001b[0m\n\u001b[0;32m   1617\u001b[0m     \u001b[38;5;28mself\u001b[39m\u001b[38;5;241m.\u001b[39moptions[\u001b[38;5;124m\"\u001b[39m\u001b[38;5;124mhas_index_names\u001b[39m\u001b[38;5;124m\"\u001b[39m] \u001b[38;5;241m=\u001b[39m kwds[\u001b[38;5;124m\"\u001b[39m\u001b[38;5;124mhas_index_names\u001b[39m\u001b[38;5;124m\"\u001b[39m]\n\u001b[0;32m   1619\u001b[0m \u001b[38;5;28mself\u001b[39m\u001b[38;5;241m.\u001b[39mhandles: IOHandles \u001b[38;5;241m|\u001b[39m \u001b[38;5;28;01mNone\u001b[39;00m \u001b[38;5;241m=\u001b[39m \u001b[38;5;28;01mNone\u001b[39;00m\n\u001b[1;32m-> 1620\u001b[0m \u001b[38;5;28mself\u001b[39m\u001b[38;5;241m.\u001b[39m_engine \u001b[38;5;241m=\u001b[39m \u001b[38;5;28mself\u001b[39m\u001b[38;5;241m.\u001b[39m_make_engine(f, \u001b[38;5;28mself\u001b[39m\u001b[38;5;241m.\u001b[39mengine)\n",
      "File \u001b[1;32m~\\anaconda3\\Lib\\site-packages\\pandas\\io\\parsers\\readers.py:1880\u001b[0m, in \u001b[0;36mTextFileReader._make_engine\u001b[1;34m(self, f, engine)\u001b[0m\n\u001b[0;32m   1878\u001b[0m     \u001b[38;5;28;01mif\u001b[39;00m \u001b[38;5;124m\"\u001b[39m\u001b[38;5;124mb\u001b[39m\u001b[38;5;124m\"\u001b[39m \u001b[38;5;129;01mnot\u001b[39;00m \u001b[38;5;129;01min\u001b[39;00m mode:\n\u001b[0;32m   1879\u001b[0m         mode \u001b[38;5;241m+\u001b[39m\u001b[38;5;241m=\u001b[39m \u001b[38;5;124m\"\u001b[39m\u001b[38;5;124mb\u001b[39m\u001b[38;5;124m\"\u001b[39m\n\u001b[1;32m-> 1880\u001b[0m \u001b[38;5;28mself\u001b[39m\u001b[38;5;241m.\u001b[39mhandles \u001b[38;5;241m=\u001b[39m get_handle(\n\u001b[0;32m   1881\u001b[0m     f,\n\u001b[0;32m   1882\u001b[0m     mode,\n\u001b[0;32m   1883\u001b[0m     encoding\u001b[38;5;241m=\u001b[39m\u001b[38;5;28mself\u001b[39m\u001b[38;5;241m.\u001b[39moptions\u001b[38;5;241m.\u001b[39mget(\u001b[38;5;124m\"\u001b[39m\u001b[38;5;124mencoding\u001b[39m\u001b[38;5;124m\"\u001b[39m, \u001b[38;5;28;01mNone\u001b[39;00m),\n\u001b[0;32m   1884\u001b[0m     compression\u001b[38;5;241m=\u001b[39m\u001b[38;5;28mself\u001b[39m\u001b[38;5;241m.\u001b[39moptions\u001b[38;5;241m.\u001b[39mget(\u001b[38;5;124m\"\u001b[39m\u001b[38;5;124mcompression\u001b[39m\u001b[38;5;124m\"\u001b[39m, \u001b[38;5;28;01mNone\u001b[39;00m),\n\u001b[0;32m   1885\u001b[0m     memory_map\u001b[38;5;241m=\u001b[39m\u001b[38;5;28mself\u001b[39m\u001b[38;5;241m.\u001b[39moptions\u001b[38;5;241m.\u001b[39mget(\u001b[38;5;124m\"\u001b[39m\u001b[38;5;124mmemory_map\u001b[39m\u001b[38;5;124m\"\u001b[39m, \u001b[38;5;28;01mFalse\u001b[39;00m),\n\u001b[0;32m   1886\u001b[0m     is_text\u001b[38;5;241m=\u001b[39mis_text,\n\u001b[0;32m   1887\u001b[0m     errors\u001b[38;5;241m=\u001b[39m\u001b[38;5;28mself\u001b[39m\u001b[38;5;241m.\u001b[39moptions\u001b[38;5;241m.\u001b[39mget(\u001b[38;5;124m\"\u001b[39m\u001b[38;5;124mencoding_errors\u001b[39m\u001b[38;5;124m\"\u001b[39m, \u001b[38;5;124m\"\u001b[39m\u001b[38;5;124mstrict\u001b[39m\u001b[38;5;124m\"\u001b[39m),\n\u001b[0;32m   1888\u001b[0m     storage_options\u001b[38;5;241m=\u001b[39m\u001b[38;5;28mself\u001b[39m\u001b[38;5;241m.\u001b[39moptions\u001b[38;5;241m.\u001b[39mget(\u001b[38;5;124m\"\u001b[39m\u001b[38;5;124mstorage_options\u001b[39m\u001b[38;5;124m\"\u001b[39m, \u001b[38;5;28;01mNone\u001b[39;00m),\n\u001b[0;32m   1889\u001b[0m )\n\u001b[0;32m   1890\u001b[0m \u001b[38;5;28;01massert\u001b[39;00m \u001b[38;5;28mself\u001b[39m\u001b[38;5;241m.\u001b[39mhandles \u001b[38;5;129;01mis\u001b[39;00m \u001b[38;5;129;01mnot\u001b[39;00m \u001b[38;5;28;01mNone\u001b[39;00m\n\u001b[0;32m   1891\u001b[0m f \u001b[38;5;241m=\u001b[39m \u001b[38;5;28mself\u001b[39m\u001b[38;5;241m.\u001b[39mhandles\u001b[38;5;241m.\u001b[39mhandle\n",
      "File \u001b[1;32m~\\anaconda3\\Lib\\site-packages\\pandas\\io\\common.py:873\u001b[0m, in \u001b[0;36mget_handle\u001b[1;34m(path_or_buf, mode, encoding, compression, memory_map, is_text, errors, storage_options)\u001b[0m\n\u001b[0;32m    868\u001b[0m \u001b[38;5;28;01melif\u001b[39;00m \u001b[38;5;28misinstance\u001b[39m(handle, \u001b[38;5;28mstr\u001b[39m):\n\u001b[0;32m    869\u001b[0m     \u001b[38;5;66;03m# Check whether the filename is to be opened in binary mode.\u001b[39;00m\n\u001b[0;32m    870\u001b[0m     \u001b[38;5;66;03m# Binary mode does not support 'encoding' and 'newline'.\u001b[39;00m\n\u001b[0;32m    871\u001b[0m     \u001b[38;5;28;01mif\u001b[39;00m ioargs\u001b[38;5;241m.\u001b[39mencoding \u001b[38;5;129;01mand\u001b[39;00m \u001b[38;5;124m\"\u001b[39m\u001b[38;5;124mb\u001b[39m\u001b[38;5;124m\"\u001b[39m \u001b[38;5;129;01mnot\u001b[39;00m \u001b[38;5;129;01min\u001b[39;00m ioargs\u001b[38;5;241m.\u001b[39mmode:\n\u001b[0;32m    872\u001b[0m         \u001b[38;5;66;03m# Encoding\u001b[39;00m\n\u001b[1;32m--> 873\u001b[0m         handle \u001b[38;5;241m=\u001b[39m \u001b[38;5;28mopen\u001b[39m(\n\u001b[0;32m    874\u001b[0m             handle,\n\u001b[0;32m    875\u001b[0m             ioargs\u001b[38;5;241m.\u001b[39mmode,\n\u001b[0;32m    876\u001b[0m             encoding\u001b[38;5;241m=\u001b[39mioargs\u001b[38;5;241m.\u001b[39mencoding,\n\u001b[0;32m    877\u001b[0m             errors\u001b[38;5;241m=\u001b[39merrors,\n\u001b[0;32m    878\u001b[0m             newline\u001b[38;5;241m=\u001b[39m\u001b[38;5;124m\"\u001b[39m\u001b[38;5;124m\"\u001b[39m,\n\u001b[0;32m    879\u001b[0m         )\n\u001b[0;32m    880\u001b[0m     \u001b[38;5;28;01melse\u001b[39;00m:\n\u001b[0;32m    881\u001b[0m         \u001b[38;5;66;03m# Binary mode\u001b[39;00m\n\u001b[0;32m    882\u001b[0m         handle \u001b[38;5;241m=\u001b[39m \u001b[38;5;28mopen\u001b[39m(handle, ioargs\u001b[38;5;241m.\u001b[39mmode)\n",
      "\u001b[1;31mFileNotFoundError\u001b[0m: [Errno 2] No such file or directory: '../input/kuzushiji/kmnist_classmap.csv'"
     ]
    }
   ],
   "source": [
    "labelsCSV = pd.read_csv('../input/kuzushiji/kmnist_classmap.csv', delimiter=',', nrows = 100)\n",
    "labelsCSV.dataframeName = '../input/kuzushiji/kmnist_classmap.csv'\n",
    "nRow, nCol = labelsCSV.shape\n",
    "print(labelsCSV)\n",
    "print('\\nHay', nRow, 'filas y', nCol, 'columnas')"
   ]
  },
  {
   "cell_type": "markdown",
   "id": "conservative-cookie",
   "metadata": {
    "papermill": {
     "duration": 0.020464,
     "end_time": "2021-06-06T04:47:50.141195",
     "exception": false,
     "start_time": "2021-06-06T04:47:50.120731",
     "status": "completed"
    },
    "tags": []
   },
   "source": [
    "## DATASET DE ENTRENAMIENTO TRAIN Y PRUEBA TEST\n",
    "Los archivos kmist-train-img.npz y kmnist-train-labels.npz contienen las imagenes y etiquetas de entrenamiento. Los archivos kmist-test-img.npz y kmnist-test-labels.npz contienen las imagenes y etiquetas de prueba "
   ]
  },
  {
   "cell_type": "code",
   "execution_count": 3,
   "id": "plastic-diana",
   "metadata": {
    "execution": {
     "iopub.execute_input": "2021-06-06T04:47:50.187832Z",
     "iopub.status.busy": "2021-06-06T04:47:50.187198Z",
     "iopub.status.idle": "2021-06-06T04:47:51.201570Z",
     "shell.execute_reply": "2021-06-06T04:47:51.200860Z",
     "shell.execute_reply.started": "2021-06-06T04:31:18.343384Z"
    },
    "papermill": {
     "duration": 1.039795,
     "end_time": "2021-06-06T04:47:51.201708",
     "exception": false,
     "start_time": "2021-06-06T04:47:50.161913",
     "status": "completed"
    },
    "tags": []
   },
   "outputs": [],
   "source": [
    "X_train = np.load('../input/kuzushiji/kmnist-train-imgs.npz')['arr_0'] #IMAGENES DE ENTRENAMIENTO\n",
    "Y_train = np.load('../input/kuzushiji/kmnist-train-labels.npz')['arr_0'] #ETIQUETAS DE LAS IMAGENES\n",
    "\n",
    "X_test = np.load('../input/kuzushiji/kmnist-test-imgs.npz')['arr_0'] #IMAGENES PARA PROBAR EL MODELO\n",
    "Y_test = np.load('../input/kuzushiji/kmnist-test-labels.npz')['arr_0'] #ETIQUETAS DE LAS IMAGENES DE PRUEBA"
   ]
  },
  {
   "cell_type": "markdown",
   "id": "ahead-irish",
   "metadata": {
    "papermill": {
     "duration": 0.020371,
     "end_time": "2021-06-06T04:47:51.242773",
     "exception": false,
     "start_time": "2021-06-06T04:47:51.222402",
     "status": "completed"
    },
    "tags": []
   },
   "source": [
    "**Conociendo las distribuciones de los datos:**"
   ]
  },
  {
   "cell_type": "markdown",
   "id": "abandoned-quilt",
   "metadata": {
    "papermill": {
     "duration": 0.020237,
     "end_time": "2021-06-06T04:47:51.283627",
     "exception": false,
     "start_time": "2021-06-06T04:47:51.263390",
     "status": "completed"
    },
    "tags": []
   },
   "source": [
    "El **TRAIN DATASET** contiene 60.000 imagenes, 10.000 imagenes por cada una de los 10 tipos de letras.   El **TEST DATASET** contiene 10.000 imagenes, 1.000 imagenes por cada una de los 10 tipos de letras. "
   ]
  },
  {
   "cell_type": "code",
   "execution_count": 4,
   "id": "bound-mouth",
   "metadata": {
    "execution": {
     "iopub.execute_input": "2021-06-06T04:47:51.327906Z",
     "iopub.status.busy": "2021-06-06T04:47:51.327327Z",
     "iopub.status.idle": "2021-06-06T04:47:51.663327Z",
     "shell.execute_reply": "2021-06-06T04:47:51.662656Z",
     "shell.execute_reply.started": "2021-06-06T04:31:18.688250Z"
    },
    "papermill": {
     "duration": 0.359107,
     "end_time": "2021-06-06T04:47:51.663463",
     "exception": false,
     "start_time": "2021-06-06T04:47:51.304356",
     "status": "completed"
    },
    "tags": []
   },
   "outputs": [
    {
     "data": {
      "text/plain": [
       "Text(0.5, 1.0, 'TEST DATASET')"
      ]
     },
     "execution_count": 4,
     "metadata": {},
     "output_type": "execute_result"
    },
    {
     "data": {
      "image/png": "[encoded data removed]",
      "text/plain": [
       "<Figure size 1080x360 with 2 Axes>"
      ]
     },
     "metadata": {
      "needs_background": "light"
     },
     "output_type": "display_data"
    }
   ],
   "source": [
    "train_labels, train_counts = np.unique(Y_train, return_counts=True)\n",
    "test_labels, test_counts = np.unique(Y_test, return_counts=True)\n",
    "\n",
    "fig, (ax1, ax2) = plt.subplots(figsize=(15,5), ncols=2)\n",
    "ax1.bar(train_labels, train_counts, 2/4, color=\"green\"); \n",
    "ax1.set(xticks=train_labels)\n",
    "ax1.set(xlabel='Etiquetas', ylabel='Numero de Imagenes')\n",
    "ax1.set_title('TRAIN DATASET')\n",
    "\n",
    "ax2.bar(test_labels, test_counts, 2/4, color=\"blue\"); \n",
    "ax2.set(xticks=test_labels)\n",
    "ax2.set(xlabel='Etiquetas', ylabel='Numero de Imagenes')\n",
    "ax2.set_title('TEST DATASET')"
   ]
  },
  {
   "cell_type": "code",
   "execution_count": 5,
   "id": "smaller-letter",
   "metadata": {
    "execution": {
     "iopub.execute_input": "2021-06-06T04:47:51.715063Z",
     "iopub.status.busy": "2021-06-06T04:47:51.713703Z",
     "iopub.status.idle": "2021-06-06T04:47:51.902529Z",
     "shell.execute_reply": "2021-06-06T04:47:51.902981Z",
     "shell.execute_reply.started": "2021-06-06T04:31:18.957271Z"
    },
    "papermill": {
     "duration": 0.217736,
     "end_time": "2021-06-06T04:47:51.903163",
     "exception": false,
     "start_time": "2021-06-06T04:47:51.685427",
     "status": "completed"
    },
    "tags": []
   },
   "outputs": [],
   "source": [
    "def normalizar(img, respu):\n",
    "    img = img.astype(np.float32)\n",
    "    img = img/255.0 #normalizacion\n",
    "    img = np.reshape(img, (len(img), 1, 28, 28))\n",
    "    img = torch.Tensor(img)\n",
    "    respu = respu.astype('int64')\n",
    "    respu = torch.Tensor(respu).type(torch.LongTensor)\n",
    "    \n",
    "    return img, respu\n",
    "\n",
    "X_train, Y_train = normalizar(X_train, Y_train) #NORMALIZACION DE LAS IMAGENES TRAIN\n",
    "X_test, Y_test = normalizar(X_test, Y_test) #NORMALIZACION DE LAS IMAGENES TEST"
   ]
  },
  {
   "cell_type": "code",
   "execution_count": 6,
   "id": "lined-restaurant",
   "metadata": {
    "execution": {
     "iopub.execute_input": "2021-06-06T04:47:51.957628Z",
     "iopub.status.busy": "2021-06-06T04:47:51.956967Z",
     "iopub.status.idle": "2021-06-06T04:47:52.041128Z",
     "shell.execute_reply": "2021-06-06T04:47:52.041677Z",
     "shell.execute_reply.started": "2021-06-06T04:31:19.237166Z"
    },
    "papermill": {
     "duration": 0.116593,
     "end_time": "2021-06-06T04:47:52.041857",
     "exception": false,
     "start_time": "2021-06-06T04:47:51.925264",
     "status": "completed"
    },
    "tags": []
   },
   "outputs": [
    {
     "name": "stdout",
     "output_type": "stream",
     "text": [
      "Numero de imagenes de ENTRENAMIENTO: 57000\n",
      "Numero de imagenes de VALIDACIÓN: 3000\n",
      "Numero de imagenes de PRUEBA: 10000\n",
      "Tamaño de las imagenes: 28px , 28px, 1 capa\n",
      "Dimenciones de X_train: torch.Size([57000, 1, 28, 28])\n",
      "Dimenciones de Y_train: torch.Size([57000])\n",
      "Dimenciones de X_dev: torch.Size([3000, 1, 28, 28])\n",
      "Dimenciones de Y_dev: torch.Size([3000])\n",
      "Dimenciones de X_test: torch.Size([10000, 1, 28, 28])\n",
      "Dimenciones de Y_test: torch.Size([10000])\n"
     ]
    }
   ],
   "source": [
    "torch.manual_seed(0)\n",
    "X_train, X_dev, Y_train, Y_dev = train_test_split(X_train, Y_train, test_size = 0.05,  random_state=1) #Se crea el conjunto de validacion, 10% del conjunto de entrenamiento\n",
    "\n",
    "dataset_train = torch.utils.data.TensorDataset(X_train, Y_train) #DATASET DE ENTRENAMEINTO IMAGENES + ETIQUETAS\n",
    "trainloader = torch.utils.data.DataLoader(dataset_train, batch_size = 128, shuffle = False) #DIVICION DEL DATASET EN BATCH DE 128=2^7\n",
    "\n",
    "dataset_test = torch.utils.data.TensorDataset(X_test, Y_test) #DATASET DE PRUEBAS IMAGENES + ETIQUETAS\n",
    "testloader = torch.utils.data.DataLoader(dataset_test, batch_size = 128, shuffle = False)\n",
    "\n",
    "dataset_dev = torch.utils.data.TensorDataset(X_dev, Y_dev) #DATASET DE PRUEBAS IMAGENES + ETIQUETAS\n",
    "devloader = torch.utils.data.DataLoader(dataset_dev, batch_size = 128, shuffle = False)\n",
    "\n",
    "print (\"Numero de imagenes de ENTRENAMIENTO: \" + str(X_train.shape[0]))\n",
    "print (\"Numero de imagenes de VALIDACIÓN: \" + str(X_dev.shape[0]))\n",
    "print (\"Numero de imagenes de PRUEBA: \" + str(X_test.shape[0]))\n",
    "print (\"Tamaño de las imagenes: \" + str(X_train.shape[2]) + \"px , \" + str(X_train.shape[2]) + \"px, 1 capa\")\n",
    "print (\"Dimenciones de X_train: \" + str(X_train.shape))\n",
    "print (\"Dimenciones de Y_train: \" + str(Y_train.shape))\n",
    "print (\"Dimenciones de X_dev: \" + str(X_dev.shape))\n",
    "print (\"Dimenciones de Y_dev: \" + str(Y_dev.shape))\n",
    "print (\"Dimenciones de X_test: \" + str(X_test.shape))\n",
    "print (\"Dimenciones de Y_test: \" + str(Y_test.shape))"
   ]
  },
  {
   "cell_type": "markdown",
   "id": "connected-biotechnology",
   "metadata": {
    "papermill": {
     "duration": 0.022077,
     "end_time": "2021-06-06T04:47:52.088123",
     "exception": false,
     "start_time": "2021-06-06T04:47:52.066046",
     "status": "completed"
    },
    "tags": []
   },
   "source": [
    "**ALGUNAS IMAGENES DE ENTRENAMIENT0**"
   ]
  },
  {
   "cell_type": "code",
   "execution_count": 7,
   "id": "absolute-leave",
   "metadata": {
    "execution": {
     "iopub.execute_input": "2021-06-06T04:47:52.135241Z",
     "iopub.status.busy": "2021-06-06T04:47:52.134622Z",
     "iopub.status.idle": "2021-06-06T04:47:52.609859Z",
     "shell.execute_reply": "2021-06-06T04:47:52.609263Z",
     "shell.execute_reply.started": "2021-06-06T04:31:19.374827Z"
    },
    "papermill": {
     "duration": 0.499797,
     "end_time": "2021-06-06T04:47:52.609986",
     "exception": false,
     "start_time": "2021-06-06T04:47:52.110189",
     "status": "completed"
    },
    "tags": []
   },
   "outputs": [
    {
     "data": {
      "text/plain": [
       "Text(0.5, 1.0, 'Imagen de ejemplo =14\\n Etiqueta = 7')"
      ]
     },
     "execution_count": 7,
     "metadata": {},
     "output_type": "execute_result"
    },
    {
     "data": {
      "image/png": "[encoded data removed]",
      "text/plain": [
       "<Figure size 1080x360 with 4 Axes>"
      ]
     },
     "metadata": {
      "needs_background": "light"
     },
     "output_type": "display_data"
    }
   ],
   "source": [
    "imagen, etiqueta = next(iter(trainloader))\n",
    "index=11\n",
    "\n",
    "fig, (ax1, ax2, ax3, ax4) = plt.subplots(figsize=(15,5), ncols=4)\n",
    "\n",
    "ax1.imshow(imagen[index][0])\n",
    "ax1.set_title(\"Imagen de ejemplo =\" + str(index) +\"\\n Etiqueta = \"+ str((int(etiqueta[index]))))\n",
    "ax2.imshow(imagen[index+1][0])\n",
    "ax2.set_title(\"Imagen de ejemplo =\" + str(index+1) +\"\\n Etiqueta = \"+ str((int(etiqueta[index+1]))))\n",
    "ax3.imshow(imagen[index+2][0])\n",
    "ax3.set_title(\"Imagen de ejemplo =\" + str(index+2) +\"\\n Etiqueta = \"+ str((int(etiqueta[index+2]))))\n",
    "ax4.imshow(imagen[index+3][0])\n",
    "ax4.set_title(\"Imagen de ejemplo =\" + str(index+3) +\"\\n Etiqueta = \"+ str((int(etiqueta[index+3]))))"
   ]
  },
  {
   "cell_type": "markdown",
   "id": "bearing-cambridge",
   "metadata": {
    "papermill": {
     "duration": 0.02418,
     "end_time": "2021-06-06T04:47:52.657721",
     "exception": false,
     "start_time": "2021-06-06T04:47:52.633541",
     "status": "completed"
    },
    "tags": []
   },
   "source": [
    "## CREACIÓN DE LA RED"
   ]
  },
  {
   "cell_type": "code",
   "execution_count": 8,
   "id": "manufactured-bumper",
   "metadata": {
    "execution": {
     "iopub.execute_input": "2021-06-06T04:47:52.713003Z",
     "iopub.status.busy": "2021-06-06T04:47:52.707781Z",
     "iopub.status.idle": "2021-06-06T04:47:52.733150Z",
     "shell.execute_reply": "2021-06-06T04:47:52.732509Z",
     "shell.execute_reply.started": "2021-06-06T04:31:20.285287Z"
    },
    "papermill": {
     "duration": 0.052311,
     "end_time": "2021-06-06T04:47:52.733286",
     "exception": false,
     "start_time": "2021-06-06T04:47:52.680975",
     "status": "completed"
    },
    "tags": []
   },
   "outputs": [],
   "source": [
    "class Classifier(nn.Module):\n",
    "    def __init__(self, modelo):\n",
    "        super().__init__()\n",
    "        self.modelo = modelo\n",
    "        torch.manual_seed(2)\n",
    "        \n",
    "        if self.modelo == 1: #MODELO DE R.N.A.\n",
    "            self.fc1 = nn.Linear(784, 128) #Capa Entrada 784=(28px*28px*1) CONECTADA 1era Capa Oculta 128 neuronas\n",
    "            self.fc2 = nn.Linear(128, 64)  #1era Capa Oculta 128 CONECTADA 2da Capa Oculta 64 neuronas\n",
    "            self.fc3 = nn.Linear(64, 10)   #2da Capa Oculta 64 CONECTADA Capa de salida de 10 neuronas (10 tipos de letras)\n",
    "        \n",
    "        if self.modelo == 2: # 1er MODELO R.N.C\n",
    "            self.layer1 = nn.Sequential( # input=(128*1*28*28)\n",
    "            nn.Conv2d(1, 6, kernel_size=5, stride=1, padding=0), # output = (128*6*24*24)\n",
    "            nn.ReLU(),\n",
    "            nn.MaxPool2d(kernel_size=2), # output = (128*6*12*12)\n",
    "            nn.Dropout(p=0.2))\n",
    "        \n",
    "            self.fc1 = nn.Linear(864, 512)\n",
    "            self.fc2 = nn.Linear(512, 64)\n",
    "            self.fc3 = nn.Linear(64, 10)\n",
    "            \n",
    "        if self.modelo == 3: # 2do MODELO R.N.C\n",
    "            self.layer1 = nn.Sequential( # input=(128*1*28*28)\n",
    "            nn.Conv2d(1, 6, kernel_size=5, stride=1, padding=2), # output = (128*6*28*28)\n",
    "            nn.BatchNorm2d(6),\n",
    "            nn.ReLU(),\n",
    "            nn.MaxPool2d(kernel_size=2), # output = (32*6*14*14)\n",
    "            nn.Dropout(p=0.1)) #nn.Dropout(p=0.2) \n",
    "            \n",
    "            self.layer2 = nn.Sequential(\n",
    "            nn.Conv2d(6, 12, kernel_size=4, stride=1, padding=0), # output = (128*12*11*11) \n",
    "            nn.ReLU(),\n",
    "            nn.MaxPool2d(kernel_size=3, stride=2), # output = (128*12*5*5)\n",
    "            nn.Dropout(p=0.1))\n",
    "            \n",
    "            self.fc1 = nn.Linear(300, 512) #pading 0 (192,512)\n",
    "            self.fc2 = nn.Linear(512, 64)\n",
    "            self.fc3 = nn.Linear(64, 10)\n",
    "        \n",
    "        if self.modelo == 4: # 3do MODELO R.N.C\n",
    "            self.layer1 = nn.Sequential( # input=(128*1*28*28)\n",
    "            nn.Conv2d(1, 6, kernel_size=5, stride=1, padding=2), # output = (128*6*28*28)\n",
    "            nn.BatchNorm2d(6),\n",
    "            nn.ReLU(),\n",
    "            nn.MaxPool2d(kernel_size=2), # output = (128*6*14*14)\n",
    "            nn.Dropout(p=0.1)) \n",
    "            \n",
    "            self.layer2 = nn.Sequential(\n",
    "            nn.Conv2d(6, 12, kernel_size=3, stride=1, padding=1), # output = (128*12*14*14) \n",
    "            nn.ReLU(),\n",
    "            nn.MaxPool2d(kernel_size=2, stride=2), # output = (128*12*7*7)\n",
    "            nn.Dropout(p=0.1)) \n",
    "            \n",
    "            self.layer3 = nn.Sequential(\n",
    "            nn.Conv2d(12, 24, kernel_size=2, stride=1, padding=0), # output = (128*24*6*6) \n",
    "            nn.ReLU(),\n",
    "            nn.MaxPool2d(kernel_size=2, stride=2), # output = (128*24*3*3)\n",
    "            nn.Dropout(p=0.1))\n",
    "            \n",
    "            self.fc1 = nn.Linear(216, 512)\n",
    "            self.fc2 = nn.Linear(512, 64)\n",
    "            self.fc3 = nn.Linear(64, 10)\n",
    "            \n",
    "    def forward(self, x):\n",
    "        if self.modelo == 1:\n",
    "            x = x.view(x.shape[0], -1) # aplanar las imagenes en vectores\n",
    "            \n",
    "            l1 = F.relu(self.fc1(x)) #relu para la primera capa oculta\n",
    "            #l1 = F.dropout(l1, p=0.2)\n",
    "            l2 = F.relu(self.fc2(l1)) #relu para la segunda capa oculta\n",
    "            #l2 = F.dropout(l2, p=0.2)\n",
    "            predic = F.log_softmax(self.fc3(l2), dim=1) #softmax porque necesitamos que sean multiclase la salida\n",
    "            \n",
    "            return predic\n",
    "        \n",
    "        if self.modelo == 2:\n",
    "            l1 = self.layer1(x)\n",
    "        \n",
    "            x = l1.view(l1.shape[0], -1)\n",
    "        \n",
    "            l1fc = F.relu(self.fc1(x))\n",
    "            l2fc = F.relu(self.fc2(l1fc))\n",
    "            predic = F.softmax(self.fc3(l2fc), dim=1)\n",
    "        \n",
    "            return predic\n",
    "        \n",
    "        if self.modelo == 3:\n",
    "            l1 = self.layer1(x)\n",
    "            l2 = self.layer2(l1)\n",
    "            \n",
    "            x = l2.view(l2.shape[0], -1)\n",
    "            \n",
    "            l1fc = F.relu(self.fc1(x))\n",
    "            l2fc = F.relu(self.fc2(l1fc))\n",
    "            predic = F.softmax(self.fc3(l2fc), dim=1)\n",
    "            \n",
    "            return predic\n",
    "        \n",
    "        if self.modelo == 4:\n",
    "            l1 = self.layer1(x)\n",
    "            l2 = self.layer2(l1)\n",
    "            l3 = self.layer3(l2)\n",
    "            \n",
    "            x = l3.view(l3.shape[0], -1)\n",
    "            \n",
    "            l1fc = F.relu(self.fc1(x))\n",
    "            l2fc = F.relu(self.fc2(l1fc))\n",
    "            predic = F.softmax(self.fc3(l2fc), dim=1)\n",
    "            \n",
    "            return predic"
   ]
  },
  {
   "cell_type": "markdown",
   "id": "pregnant-borough",
   "metadata": {
    "papermill": {
     "duration": 0.023045,
     "end_time": "2021-06-06T04:47:52.779767",
     "exception": false,
     "start_time": "2021-06-06T04:47:52.756722",
     "status": "completed"
    },
    "tags": []
   },
   "source": [
    "## ENTRENAMIENTO DEL MODELO "
   ]
  },
  {
   "cell_type": "code",
   "execution_count": 9,
   "id": "brilliant-castle",
   "metadata": {
    "execution": {
     "iopub.execute_input": "2021-06-06T04:47:52.839212Z",
     "iopub.status.busy": "2021-06-06T04:47:52.838208Z",
     "iopub.status.idle": "2021-06-06T04:47:52.841193Z",
     "shell.execute_reply": "2021-06-06T04:47:52.840665Z",
     "shell.execute_reply.started": "2021-06-06T04:31:20.306350Z"
    },
    "papermill": {
     "duration": 0.038006,
     "end_time": "2021-06-06T04:47:52.841324",
     "exception": false,
     "start_time": "2021-06-06T04:47:52.803318",
     "status": "completed"
    },
    "tags": []
   },
   "outputs": [],
   "source": [
    "def entrenamiento(model, criterion, optimizer, epocas, tloader, dloader, lentrainds, lentestds):\n",
    "    \n",
    "    train_lost_array = []\n",
    "    train_accuracy_array = []\n",
    "    dev_lost_array = []\n",
    "    dev_accuracy_array = []\n",
    "    \n",
    "    for e in range(epocas):\n",
    "        model.train() #Cambiar a modo entrenamiento\n",
    "        train_loss = 0\n",
    "        accuracy = 0\n",
    "        steps = 0\n",
    "        \n",
    "        for i, (image, label) in enumerate(tloader):\n",
    "            y_techo = model(image)\n",
    "            loss = criterion(y_techo, label)\n",
    "\n",
    "            optimizer.zero_grad()\n",
    "            loss.backward()\n",
    "            optimizer.step()\n",
    "\n",
    "            train_loss += loss.item()\n",
    "            _, predicted = torch.max(y_techo, 1)\n",
    "            accuracy += (predicted == label).sum()\n",
    "            steps += 1\n",
    "            \n",
    "        train_lost_array.append(train_loss/steps)\n",
    "        train_accuracy_array.append(100 * accuracy//lentrainds)\n",
    "        \n",
    "        model.eval()\n",
    "        with torch.no_grad():\n",
    "            iter_loss = 0\n",
    "            accuracy = 0\n",
    "            steps = 0\n",
    "            \n",
    "            for i, (images, labels) in enumerate(devloader):\n",
    "                outputs = model(images)\n",
    "                loss = criterion(outputs, labels)\n",
    "\n",
    "                iter_loss += loss.item()\n",
    "                _, predicted = torch.max(outputs, 1)\n",
    "                accuracy += (predicted == labels).sum()\n",
    "                steps += 1\n",
    "            \n",
    "            dev_lost_array.append(iter_loss/steps)\n",
    "            dev_accuracy_array.append(100 * accuracy/lentestds)\n",
    "            \n",
    "        print ('Epocas {}/{}, Training Loss: {:.3f}, Training Accuracy: {:.2f}%, Validation Loss: {:.3f}, Validation Acc: {:.2f}%'.format(e+1, epocas, train_lost_array[-1], train_accuracy_array[-1], dev_lost_array[-1], dev_accuracy_array[-1]))\n",
    "                \n",
    "    return train_lost_array, train_accuracy_array, dev_lost_array, dev_accuracy_array"
   ]
  },
  {
   "cell_type": "markdown",
   "id": "caroline-shoulder",
   "metadata": {
    "papermill": {
     "duration": 0.023449,
     "end_time": "2021-06-06T04:47:52.888191",
     "exception": false,
     "start_time": "2021-06-06T04:47:52.864742",
     "status": "completed"
    },
    "tags": []
   },
   "source": [
    "**RESULTADOS DEL ENTRENAMIENTO**"
   ]
  },
  {
   "cell_type": "code",
   "execution_count": 10,
   "id": "nervous-blend",
   "metadata": {
    "execution": {
     "iopub.execute_input": "2021-06-06T04:47:52.943636Z",
     "iopub.status.busy": "2021-06-06T04:47:52.942947Z",
     "iopub.status.idle": "2021-06-06T04:52:38.670932Z",
     "shell.execute_reply": "2021-06-06T04:52:38.671419Z",
     "shell.execute_reply.started": "2021-06-06T04:31:20.325942Z"
    },
    "papermill": {
     "duration": 285.759941,
     "end_time": "2021-06-06T04:52:38.671600",
     "exception": false,
     "start_time": "2021-06-06T04:47:52.911659",
     "status": "completed"
    },
    "tags": []
   },
   "outputs": [
    {
     "name": "stdout",
     "output_type": "stream",
     "text": [
      "Epocas 1/24, Training Loss: 1.800, Training Accuracy: 66.00%, Validation Loss: 1.724, Validation Acc: 74.00%\n",
      "Epocas 2/24, Training Loss: 1.691, Training Accuracy: 77.00%, Validation Loss: 1.668, Validation Acc: 79.40%\n",
      "Epocas 3/24, Training Loss: 1.621, Training Accuracy: 84.00%, Validation Loss: 1.560, Validation Acc: 90.33%\n",
      "Epocas 4/24, Training Loss: 1.564, Training Accuracy: 89.00%, Validation Loss: 1.546, Validation Acc: 91.73%\n",
      "Epocas 5/24, Training Loss: 1.556, Training Accuracy: 90.00%, Validation Loss: 1.542, Validation Acc: 92.10%\n",
      "Epocas 6/24, Training Loss: 1.546, Training Accuracy: 91.00%, Validation Loss: 1.525, Validation Acc: 93.83%\n",
      "Epocas 7/24, Training Loss: 1.540, Training Accuracy: 92.00%, Validation Loss: 1.530, Validation Acc: 93.27%\n",
      "Epocas 8/24, Training Loss: 1.514, Training Accuracy: 94.00%, Validation Loss: 1.506, Validation Acc: 95.67%\n",
      "Epocas 9/24, Training Loss: 1.507, Training Accuracy: 95.00%, Validation Loss: 1.504, Validation Acc: 95.77%\n",
      "Epocas 10/24, Training Loss: 1.506, Training Accuracy: 95.00%, Validation Loss: 1.501, Validation Acc: 96.13%\n",
      "Epocas 11/24, Training Loss: 1.504, Training Accuracy: 95.00%, Validation Loss: 1.499, Validation Acc: 96.27%\n",
      "Epocas 12/24, Training Loss: 1.503, Training Accuracy: 95.00%, Validation Loss: 1.496, Validation Acc: 96.60%\n",
      "Epocas 13/24, Training Loss: 1.501, Training Accuracy: 96.00%, Validation Loss: 1.497, Validation Acc: 96.40%\n",
      "Epocas 14/24, Training Loss: 1.500, Training Accuracy: 96.00%, Validation Loss: 1.496, Validation Acc: 96.43%\n",
      "Epocas 15/24, Training Loss: 1.499, Training Accuracy: 96.00%, Validation Loss: 1.495, Validation Acc: 96.67%\n",
      "Epocas 16/24, Training Loss: 1.492, Training Accuracy: 96.00%, Validation Loss: 1.481, Validation Acc: 98.13%\n",
      "Epocas 17/24, Training Loss: 1.480, Training Accuracy: 98.00%, Validation Loss: 1.478, Validation Acc: 98.33%\n",
      "Epocas 18/24, Training Loss: 1.478, Training Accuracy: 98.00%, Validation Loss: 1.476, Validation Acc: 98.57%\n",
      "Epocas 19/24, Training Loss: 1.478, Training Accuracy: 98.00%, Validation Loss: 1.480, Validation Acc: 98.13%\n",
      "Epocas 20/24, Training Loss: 1.479, Training Accuracy: 98.00%, Validation Loss: 1.482, Validation Acc: 97.87%\n",
      "Epocas 21/24, Training Loss: 1.477, Training Accuracy: 98.00%, Validation Loss: 1.476, Validation Acc: 98.53%\n",
      "Epocas 22/24, Training Loss: 1.476, Training Accuracy: 98.00%, Validation Loss: 1.476, Validation Acc: 98.57%\n",
      "Epocas 23/24, Training Loss: 1.476, Training Accuracy: 98.00%, Validation Loss: 1.475, Validation Acc: 98.70%\n",
      "Epocas 24/24, Training Loss: 1.475, Training Accuracy: 98.00%, Validation Loss: 1.475, Validation Acc: 98.60%\n"
     ]
    },
    {
     "data": {
      "text/plain": [
       "<matplotlib.legend.Legend at 0x7f6a65a71f90>"
      ]
     },
     "execution_count": 10,
     "metadata": {},
     "output_type": "execute_result"
    },
    {
     "data": {
      "image/png": "[encoded data removed]",
      "text/plain": [
       "<Figure size 1080x360 with 2 Axes>"
      ]
     },
     "metadata": {
      "needs_background": "light"
     },
     "output_type": "display_data"
    }
   ],
   "source": [
    "#PARAMETROS DEL MODELO\n",
    "choseModelo = 3 # Ek modelo 3 resulto tener el mejor rendimiento\n",
    "model = Classifier(choseModelo)\n",
    "criterion = nn.CrossEntropyLoss() #nn.NLLLoss() nn.CrossEntropyLoss()\n",
    "optimizer = optim.Adam(model.parameters(), lr=0.001) #optim.SGD(model.parameters(), lr=0.01, momentum=0.9)\n",
    "epocas = 24\n",
    "\n",
    "train_lost_array, train_accuracy_array, dev_lost_array, dev_accuracy_array= entrenamiento(model, criterion, optimizer, epocas, trainloader, devloader, len(dataset_train), len(dataset_dev))\n",
    "\n",
    "fig, (ax1, ax2) = plt.subplots(figsize=(15,5), ncols=2)\n",
    "ax1.plot(train_lost_array, label='Train Cost')\n",
    "ax1.plot(dev_lost_array, label='Dev Cost')\n",
    "ax1.set_title('Train/Dev Cost')\n",
    "ax1.set(xlabel='Epocas', ylabel='Costo')\n",
    "ax1.legend()\n",
    "\n",
    "ax2.plot(train_accuracy_array, label='Train Accuracy')\n",
    "ax2.plot(dev_accuracy_array, label='Dev Accuracy')\n",
    "ax2.set_title('Train/Dev Accuracy')\n",
    "ax2.set(xlabel='Epocas', ylabel='Aaccuracy')\n",
    "ax2.legend()"
   ]
  },
  {
   "cell_type": "markdown",
   "id": "photographic-february",
   "metadata": {
    "papermill": {
     "duration": 0.032164,
     "end_time": "2021-06-06T04:52:38.735900",
     "exception": false,
     "start_time": "2021-06-06T04:52:38.703736",
     "status": "completed"
    },
    "tags": []
   },
   "source": [
    "**RESUMEN DEL MODELO UTILIZADO**"
   ]
  },
  {
   "cell_type": "code",
   "execution_count": 11,
   "id": "passive-pontiac",
   "metadata": {
    "execution": {
     "iopub.execute_input": "2021-06-06T04:52:38.806526Z",
     "iopub.status.busy": "2021-06-06T04:52:38.805632Z",
     "iopub.status.idle": "2021-06-06T04:52:38.808852Z",
     "shell.execute_reply": "2021-06-06T04:52:38.809387Z",
     "shell.execute_reply.started": "2021-06-06T04:35:56.967950Z"
    },
    "papermill": {
     "duration": 0.040918,
     "end_time": "2021-06-06T04:52:38.809554",
     "exception": false,
     "start_time": "2021-06-06T04:52:38.768636",
     "status": "completed"
    },
    "tags": []
   },
   "outputs": [
    {
     "name": "stdout",
     "output_type": "stream",
     "text": [
      "Classifier(\n",
      "  (layer1): Sequential(\n",
      "    (0): Conv2d(1, 6, kernel_size=(5, 5), stride=(1, 1), padding=(2, 2))\n",
      "    (1): BatchNorm2d(6, eps=1e-05, momentum=0.1, affine=True, track_running_stats=True)\n",
      "    (2): ReLU()\n",
      "    (3): MaxPool2d(kernel_size=2, stride=2, padding=0, dilation=1, ceil_mode=False)\n",
      "    (4): Dropout(p=0.1, inplace=False)\n",
      "  )\n",
      "  (layer2): Sequential(\n",
      "    (0): Conv2d(6, 12, kernel_size=(4, 4), stride=(1, 1))\n",
      "    (1): ReLU()\n",
      "    (2): MaxPool2d(kernel_size=3, stride=2, padding=0, dilation=1, ceil_mode=False)\n",
      "    (3): Dropout(p=0.1, inplace=False)\n",
      "  )\n",
      "  (fc1): Linear(in_features=300, out_features=512, bias=True)\n",
      "  (fc2): Linear(in_features=512, out_features=64, bias=True)\n",
      "  (fc3): Linear(in_features=64, out_features=10, bias=True)\n",
      ")\n"
     ]
    }
   ],
   "source": [
    "#MODELO UTILIZADO\n",
    "print(model)"
   ]
  },
  {
   "cell_type": "markdown",
   "id": "transparent-conspiracy",
   "metadata": {
    "papermill": {
     "duration": 0.033125,
     "end_time": "2021-06-06T04:52:38.875698",
     "exception": false,
     "start_time": "2021-06-06T04:52:38.842573",
     "status": "completed"
    },
    "tags": []
   },
   "source": [
    "**PROBANDO EL MODELO CON UNA IMAGEN DEL SET DE ENTRENAMIENTO**\n"
   ]
  },
  {
   "cell_type": "code",
   "execution_count": 12,
   "id": "spectacular-queens",
   "metadata": {
    "execution": {
     "iopub.execute_input": "2021-06-06T04:52:38.949264Z",
     "iopub.status.busy": "2021-06-06T04:52:38.948390Z",
     "iopub.status.idle": "2021-06-06T04:52:38.951536Z",
     "shell.execute_reply": "2021-06-06T04:52:38.950951Z",
     "shell.execute_reply.started": "2021-06-06T04:35:56.975529Z"
    },
    "papermill": {
     "duration": 0.043144,
     "end_time": "2021-06-06T04:52:38.951657",
     "exception": false,
     "start_time": "2021-06-06T04:52:38.908513",
     "status": "completed"
    },
    "tags": []
   },
   "outputs": [],
   "source": [
    "def pintar(img, ps, lab):\n",
    "    ps = ps.data.numpy().squeeze()\n",
    "\n",
    "    fig, (ax1, ax2) = plt.subplots(figsize=(8,9), ncols=2)\n",
    "    ax1.imshow(img.resize_(1, 28, 28).numpy().squeeze())\n",
    "    ax1.set_title(\"Imagen de ejemplo =\" + str(index) +\"\\n Etiqueta = \"+ str((int(lab))))\n",
    "    ax1.axis('on')\n",
    "    ax2.barh(np.arange(10), ps)\n",
    "    ax2.set_aspect(0.1)\n",
    "    ax2.set_yticks(np.arange(10))\n",
    "    ax2.set_yticklabels(np.arange(10))\n",
    "    ax2.set_title('Probabilidad')\n",
    "    ax2.set_xlim(0, 1.1)\n",
    "\n",
    "    plt.tight_layout()\n",
    "    \n",
    "    print(labelsCSV)"
   ]
  },
  {
   "cell_type": "code",
   "execution_count": 13,
   "id": "russian-spotlight",
   "metadata": {
    "execution": {
     "iopub.execute_input": "2021-06-06T04:52:39.029768Z",
     "iopub.status.busy": "2021-06-06T04:52:39.028816Z",
     "iopub.status.idle": "2021-06-06T04:52:39.339101Z",
     "shell.execute_reply": "2021-06-06T04:52:39.338476Z",
     "shell.execute_reply.started": "2021-06-06T04:35:56.990468Z"
    },
    "papermill": {
     "duration": 0.355473,
     "end_time": "2021-06-06T04:52:39.339247",
     "exception": false,
     "start_time": "2021-06-06T04:52:38.983774",
     "status": "completed"
    },
    "tags": []
   },
   "outputs": [
    {
     "name": "stdout",
     "output_type": "stream",
     "text": [
      "   index codepoint char\n",
      "0      0    U+304A    お\n",
      "1      1    U+304D    き\n",
      "2      2    U+3059    す\n",
      "3      3    U+3064    つ\n",
      "4      4    U+306A    な\n",
      "5      5    U+306F    は\n",
      "6      6    U+307E    ま\n",
      "7      7    U+3084    や\n",
      "8      8    U+308C    れ\n",
      "9      9    U+3092    を\n",
      "\n",
      "Prediccion Correcta! el verdadero valor es 2 y la prediccion fue 2\n",
      "\n"
     ]
    },
    {
     "data": {
      "image/png": "[encoded data removed]",
      "text/plain": [
       "<Figure size 576x648 with 2 Axes>"
      ]
     },
     "metadata": {
      "needs_background": "light"
     },
     "output_type": "display_data"
    }
   ],
   "source": [
    "%matplotlib inline\n",
    "\n",
    "index=12\n",
    "\n",
    "dataiter = iter(trainloader)\n",
    "images, labels = dataiter.next()\n",
    "img = images[index]\n",
    "lab = labels[index]\n",
    "\n",
    "img = img.resize_(1, 1, 28, 28) # Aplanado de la imagen\n",
    "\n",
    "model.eval()\n",
    "if choseModelo == 1 :\n",
    "    ps = torch.exp(model(img))\n",
    "else:\n",
    "    ps=model(img)\n",
    "\n",
    "# Plot the image and probabilities\n",
    "pintar(img.resize_(1, 28, 28), ps, lab)\n",
    "\n",
    "if (torch.argmax(ps) == lab):\n",
    "    print(\"\\nPrediccion Correcta! el verdadero valor es \" +str(int(lab))+\" y la prediccion fue \"+str(int(torch.argmax(ps))) +\"\\n\")\n",
    "else:\n",
    "    print(\"\\nPrediccion Incorrecta!! el verdadero valor es \" +str(int(lab))+\" y la prediccion fue \"+str(int(torch.argmax(ps))) +\"\\n\")"
   ]
  },
  {
   "cell_type": "markdown",
   "id": "stupid-boring",
   "metadata": {
    "papermill": {
     "duration": 0.033599,
     "end_time": "2021-06-06T04:52:39.407144",
     "exception": false,
     "start_time": "2021-06-06T04:52:39.373545",
     "status": "completed"
    },
    "tags": []
   },
   "source": [
    "## PREDICCIONES DEL MODELO CON EL TESTSET"
   ]
  },
  {
   "cell_type": "code",
   "execution_count": 14,
   "id": "pharmaceutical-numbers",
   "metadata": {
    "execution": {
     "iopub.execute_input": "2021-06-06T04:52:39.477232Z",
     "iopub.status.busy": "2021-06-06T04:52:39.476645Z",
     "iopub.status.idle": "2021-06-06T04:52:40.093221Z",
     "shell.execute_reply": "2021-06-06T04:52:40.093759Z",
     "shell.execute_reply.started": "2021-06-06T04:35:57.321460Z"
    },
    "papermill": {
     "duration": 0.653287,
     "end_time": "2021-06-06T04:52:40.093932",
     "exception": false,
     "start_time": "2021-06-06T04:52:39.440645",
     "status": "completed"
    },
    "tags": []
   },
   "outputs": [
    {
     "name": "stdout",
     "output_type": "stream",
     "text": [
      "test loss: 0.021, test accuracy: 95.09%\n"
     ]
    }
   ],
   "source": [
    "model.eval() #Cambiar a modo evaluacion\n",
    "\n",
    "test_lost_array=[]\n",
    "test_accuracy_array=[]\n",
    "\n",
    "with torch.no_grad():\n",
    "    accuracy = 0\n",
    "    total = 0\n",
    "    test_loss = 0\n",
    "\n",
    "    for images, labels in testloader:\n",
    "        y_techo = model(images)\n",
    "        loss = criterion(y_techo, labels)\n",
    "\n",
    "        test_loss += loss.item()\n",
    "        test_loss = test_loss/len(testloader)\n",
    "        _, predicted = torch.max(y_techo, 1)\n",
    "        total += labels.size(0)\n",
    "        accuracy += (predicted == labels).sum().item()\n",
    "        test_accuracy = (100*accuracy)/total\n",
    "\n",
    "    test_lost_array.append(test_loss)\n",
    "    test_accuracy_array.append(test_accuracy)\n",
    "    print(f'test loss: {test_loss:.3f}, test accuracy: {(100*accuracy)/total:.2f}%')"
   ]
  },
  {
   "cell_type": "markdown",
   "id": "impaired-australian",
   "metadata": {
    "papermill": {
     "duration": 0.032948,
     "end_time": "2021-06-06T04:52:40.162451",
     "exception": false,
     "start_time": "2021-06-06T04:52:40.129503",
     "status": "completed"
    },
    "tags": []
   },
   "source": [
    "**PROBANDO EL MODELO CON UNA IMAGEN DEL SET DE PRUEBA**"
   ]
  },
  {
   "cell_type": "code",
   "execution_count": 15,
   "id": "metric-relaxation",
   "metadata": {
    "execution": {
     "iopub.execute_input": "2021-06-06T04:52:40.240863Z",
     "iopub.status.busy": "2021-06-06T04:52:40.240255Z",
     "iopub.status.idle": "2021-06-06T04:52:40.538001Z",
     "shell.execute_reply": "2021-06-06T04:52:40.537415Z",
     "shell.execute_reply.started": "2021-06-06T04:35:57.973269Z"
    },
    "papermill": {
     "duration": 0.342566,
     "end_time": "2021-06-06T04:52:40.538155",
     "exception": false,
     "start_time": "2021-06-06T04:52:40.195589",
     "status": "completed"
    },
    "tags": []
   },
   "outputs": [
    {
     "name": "stdout",
     "output_type": "stream",
     "text": [
      "   index codepoint char\n",
      "0      0    U+304A    お\n",
      "1      1    U+304D    き\n",
      "2      2    U+3059    す\n",
      "3      3    U+3064    つ\n",
      "4      4    U+306A    な\n",
      "5      5    U+306F    は\n",
      "6      6    U+307E    ま\n",
      "7      7    U+3084    や\n",
      "8      8    U+308C    れ\n",
      "9      9    U+3092    を\n",
      "\n",
      "Prediccion Correcta! el verdadero valor es 1 y la prediccion fue 1\n",
      "\n"
     ]
    },
    {
     "data": {
      "image/png": "[encoded data removed]",
      "text/plain": [
       "<Figure size 576x648 with 2 Axes>"
      ]
     },
     "metadata": {
      "needs_background": "light"
     },
     "output_type": "display_data"
    }
   ],
   "source": [
    "%matplotlib inline\n",
    "  \n",
    "index=14\n",
    "\n",
    "dataiter = iter(testloader)\n",
    "images, labels = dataiter.next()\n",
    "img = images[index]\n",
    "lab = labels[index]\n",
    "\n",
    "img = img.resize_(1, 1, 28, 28) # Aplanado de la imagen\n",
    "\n",
    "model.eval()\n",
    "if choseModelo == 1 :\n",
    "    ps = torch.exp(model(img))\n",
    "else:\n",
    "    ps=model(img)\n",
    "\n",
    "pintar(img.resize_(1, 28, 28), ps, lab)\n",
    "\n",
    "if (torch.argmax(ps) == lab):\n",
    "    print(\"\\nPrediccion Correcta! el verdadero valor es \" +str(int(lab))+\" y la prediccion fue \"+str(int(torch.argmax(ps))) +\"\\n\")\n",
    "else:\n",
    "    print(\"\\nPrediccion Incorrecta!! el verdadero valor es \" +str(int(lab))+\" y la prediccion fue \"+str(int(torch.argmax(ps))) +\"\\n\")"
   ]
  },
  {
   "cell_type": "code",
   "execution_count": null,
   "id": "usual-narrative",
   "metadata": {
    "papermill": {
     "duration": 0.034445,
     "end_time": "2021-06-06T04:52:40.606702",
     "exception": false,
     "start_time": "2021-06-06T04:52:40.572257",
     "status": "completed"
    },
    "tags": []
   },
   "outputs": [],
   "source": []
  },
  {
   "cell_type": "code",
   "execution_count": null,
   "id": "encouraging-chamber",
   "metadata": {
    "papermill": {
     "duration": 0.034571,
     "end_time": "2021-06-06T04:52:40.676138",
     "exception": false,
     "start_time": "2021-06-06T04:52:40.641567",
     "status": "completed"
    },
    "tags": []
   },
   "outputs": [],
   "source": []
  }
 ],
 "metadata": {
  "kernelspec": {
   "display_name": "Python 3 (ipykernel)",
   "language": "python",
   "name": "python3"
  },
  "language_info": {
   "codemirror_mode": {
    "name": "ipython",
    "version": 3
   },
   "file_extension": ".py",
   "mimetype": "text/x-python",
   "name": "python",
   "nbconvert_exporter": "python",
   "pygments_lexer": "ipython3",
   "version": "3.12.4"
  },
  "papermill": {
   "default_parameters": {},
   "duration": 301.725501,
   "end_time": "2021-06-06T04:52:41.520045",
   "environment_variables": {},
   "exception": null,
   "input_path": "__notebook__.ipynb",
   "output_path": "__notebook__.ipynb",
   "parameters": {},
   "start_time": "2021-06-06T04:47:39.794544",
   "version": "2.3.3"
  }
 },
 "nbformat": 4,
 "nbformat_minor": 5
}
